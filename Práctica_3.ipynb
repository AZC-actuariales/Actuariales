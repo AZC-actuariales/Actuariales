{
  "nbformat": 4,
  "nbformat_minor": 0,
  "metadata": {
    "colab": {
      "name": "Práctica 3.ipynb",
      "provenance": []
    },
    "kernelspec": {
      "name": "python3",
      "display_name": "Python 3"
    },
    "language_info": {
      "name": "python"
    }
  },
  "cells": [
    {
      "cell_type": "code",
      "execution_count": 29,
      "metadata": {
        "colab": {
          "base_uri": "https://localhost:8080/"
        },
        "id": "pImIMeJL6nt4",
        "outputId": "be572968-58ee-471b-efdc-cd8022abf2b6"
      },
      "outputs": [
        {
          "output_type": "stream",
          "name": "stdout",
          "text": [
            "Valor actual de la opción:  10.877357897960906 €\n"
          ]
        }
      ],
      "source": [
        "import numpy as np\n",
        "from scipy.stats import binom\n",
        "\n",
        "#establecemos los datos del enunciado:\n",
        "#precio actual de la acción (S), el precio de strike (E), número de años (T), pasos (n)\n",
        "#volatilidad anual en el precio de la acción (signo sigma pero no lo usamos),\n",
        "#y tanto de interés anual (r)\n",
        "S = 100\n",
        "E = 100\n",
        "T = 2\n",
        "n = 4\n",
        "volatilidad = 0.1\n",
        "r = 0.05\n",
        "\n",
        "#convertimos el interés al tanto instantáneo rho\n",
        "#rho es el logaritmo natural (es decir con base e) de 1 + r\n",
        "rho = np.log(1+r)\n",
        "\n",
        "#calculamos el tiempo que transcurre entre cada paso del árbol\n",
        "deltaT = T / n\n",
        "\n",
        "#calculamos el factor de subida u\n",
        "u = np.exp(volatilidad*np.sqrt(deltaT))\n",
        "\n",
        "#en base al factor de subida calculamos también el de bajada, d\n",
        "d = 1/u\n",
        "\n",
        "\n",
        "#obtenemos la probabilidad de subida en el precio de la acción\n",
        "p = (np.exp(rho * deltaT) - d)/(u - d)\n",
        "\n",
        "\n",
        "#creamos el vector Sn para almacenar el precio de la acción en el paso \n",
        "#la cantidad de precios finales (o ramas del árbol) es n+1\n",
        "#por ahora el vector estará vacío\n",
        "Sn = [0]*(n+1)\n",
        "\n",
        "#rellenamos Sn\n",
        "for i in range(n+1):\n",
        "\t#precio final de la acción = precio inicial multiplicado por…\n",
        "\t#factor de subida y bajada, en distinta proporción según el escenario (i)\n",
        "\tSn[i] = S * u ** (n-i)*d**i\n",
        "\n",
        "#creamos el vector ganancia_opción para representar el valor que tiene la opción en cada escenario\n",
        "ganancia_opción = [0] * (n+1)\n",
        "\n",
        "#si el precio de la acción en n es mayor que E, el valor de la opción es la diferencia entre ambos precios\n",
        "#si el precio de la acción en n es menor que E, la opción tiene valor nulo\n",
        "for i in range(n+1):\n",
        "\tif Sn[i] > E:\n",
        "\t\tganancia_opción[i] = Sn[i] - E\n",
        "\telse:\n",
        "\t\tganancia_opción[i] = 0\n",
        "\n",
        "#inicializamos el valor_final de la opción\n",
        "valor_final = 0\n",
        "\n",
        "\n",
        "#el valor final de la opción es la multiplicación, para cada escenario o rama, de…\n",
        "#el valor final por la probabilidad de que ocurra ese escenario\n",
        "\n",
        "#obtenemos la probabilidad de ese escenario con la distribución binomial\n",
        "#n-i es la cantidad de pasos en que el precio de la acción subió, es decir…\n",
        "#el número de éxitos (normalmente representado k en esta distribución)\n",
        "#p es la probabilidad de éxito, n es la cantidad de intentos (pasos)\n",
        "for i in range(n+1):\n",
        "\tvalor_final+=ganancia_opción[i] * binom.pmf(n-i, n, p)\n",
        "\n",
        "#calculamos el valor_actual de la opción descontando en base a rho\n",
        "valor_actual = valor_final*np.exp(-rho * T)\n",
        "\n",
        "\n",
        "print(\"Valor actual de la opción: \", valor_actual, \"€\")\n",
        "\n"
      ]
    }
  ]
}