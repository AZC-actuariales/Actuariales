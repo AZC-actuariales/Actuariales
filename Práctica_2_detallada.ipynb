{
  "nbformat": 4,
  "nbformat_minor": 0,
  "metadata": {
    "colab": {
      "name": "Práctica 2 - detallada.ipynb",
      "provenance": []
    },
    "kernelspec": {
      "name": "python3",
      "display_name": "Python 3"
    },
    "language_info": {
      "name": "python"
    }
  },
  "cells": [
    {
      "cell_type": "code",
      "execution_count": null,
      "metadata": {
        "id": "km2pj9y0dQDm"
      },
      "outputs": [],
      "source": [
        "import random  \n",
        "import math  \n",
        "import matplotlib.pyplot as plt  \n",
        "random.seed()  \n",
        "n=100 # número de pasos  \n",
        "r=1 # longitud del paso  \n",
        "\n",
        "#paseo unidimensional\n",
        "x1d = 0\n",
        "listax1d=[x1d]\n",
        "\n",
        "for i in range (n):\n",
        "  if random.random() < 0.5:\n",
        "    r = -1*r\n",
        "  x1d+= r\n",
        "  listax1d.append(x1d) #no queremos sólo la posición final, sino todas las posiciones del paseo\n",
        "\n",
        "print(\"El paseo aleatorio unidimensional es: \", listax1d)\n",
        "\n",
        "\n",
        "#paseo bi-dimensional\n",
        "x2d=y2d=0 # punto de partida (x,y)=(0,0)  \n",
        "listax2d=[x2d]  \n",
        "listay2d=[y2d]\n",
        "\n",
        "#la cantidad de radianes en un círculo es 2*pi\n",
        "#por eso, para especificar el ángulo, cogemos un número aleatorio del 0 al 1 multiplicado por 2*pi\n",
        " \n",
        "for i in range(n):  \n",
        "  angulo=random.random()*math.pi*2\n",
        "  x2d+=r*math.cos(angulo) #la distancia en el eje x es el coseno del ángulo en radianes\n",
        "  y2d+=r*math.sin(angulo) #la distancia en el eje y es el seno del ángulo en radianes\n",
        "  \n",
        "  listax2d.append(x2d)  \n",
        "  listay2d.append(y2d)  \n",
        "plt.plot(listax2d,listay2d)  \n",
        "print(\"Representación gráfica del paseo aleatorio bidimensional:\")\n",
        "plt.show() "
      ]
    }
  ]
}