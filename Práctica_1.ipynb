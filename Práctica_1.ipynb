{
  "nbformat": 4,
  "nbformat_minor": 0,
  "metadata": {
    "colab": {
      "name": "Práctica 1.ipynb",
      "provenance": [],
      "collapsed_sections": []
    },
    "kernelspec": {
      "name": "python3",
      "display_name": "Python 3"
    },
    "language_info": {
      "name": "python"
    }
  },
  "cells": [
    {
      "cell_type": "code",
      "execution_count": 39,
      "metadata": {
        "id": "q4SKTlOJguGd",
        "colab": {
          "base_uri": "https://localhost:8080/"
        },
        "outputId": "6ab46cfc-9d29-42ff-ebaa-caf5e1921086"
      },
      "outputs": [
        {
          "output_type": "stream",
          "name": "stdout",
          "text": [
            "Requirement already satisfied: numpy-financial in /usr/local/lib/python3.7/dist-packages (1.0.0)\n",
            "Requirement already satisfied: numpy>=1.15 in /usr/local/lib/python3.7/dist-packages (from numpy-financial) (1.21.5)\n",
            "0.04166666666666674\n"
          ]
        }
      ],
      "source": [
        "\n",
        "#Master en Ciencias Actuariales de la Universidad Rey Juan Carlos\n",
        "#Asignatura: Renta variable y derivados financieros\n",
        "#Práctica 1: bonos sintéticos y forward\n",
        "\n",
        "#instalamos la librería numpy-financial\n",
        "!pip install numpy-financial\n",
        "\n",
        "#importamos la librería\n",
        "import numpy_financial as npf\n",
        "\n",
        "#datos de los bonos\n",
        "#rellenamos con 0 para que todos los vectores tengan la misma longitud\n",
        "#es necesario incluir el desembolso inicial como flujo de caja\n",
        "#para luego poder calcular la TIR\n",
        "bonoA = [-96,100,0,0,0,0]\n",
        "bonoB = [-545,50,550,0,0,0]\n",
        "bonoC = [-1030,70,70,1070,0,0]\n",
        "bonoD = [-2030,150,150,150,2150,0]\n",
        "bonoE = [-3920,300,300,300,300,4300]\n",
        "\n",
        "#para el bono X, desconocemos el desembolso inicial así que de momento ahí ponemos 0\n",
        "bonoX = [0,100,100,100,100,1100]\n",
        "\n",
        "#el ejercicio nos da el precio o valor actual de todos los bonos salvo X\n",
        "precioA = -bonoA[0]\n",
        "precioB = -bonoB[0]\n",
        "precioC = -bonoC[0]\n",
        "precioD = -bonoD[0]\n",
        "precioE = -bonoE[0]\n",
        "\n",
        "#calculamos la TIR de todos los bonos\n",
        "tirA = npf.irr(bonoA)\n",
        "tirB = npf.irr(bonoB)\n",
        "tirC = npf.irr(bonoC)\n",
        "tirD = npf.irr(bonoD)\n",
        "tirE = npf.irr(bonoE)\n",
        "\n",
        "#comprobamos el cálculo\n",
        "print(tirA)\n",
        "\n",
        "#para calcular el precio del bono X tenemos que conocer la ETTI desde i=1 hasta 5\n",
        "#construimos la ETTI paso a paso: la del año 1 es igual a la TIR del bono A\n",
        "#la de cualquier año i se calcula usando el factor de descuento hasta el año i-1\n",
        "etti = [tirA,0,0,0,0]\n",
        "\n",
        "#definimos la función que calcula la ETTI para cualquier año y bono que deseemos\n",
        "#FCID significa: flujos de caja intermedios descontados\n",
        "#es decir, el valor actual de los cupones de cada bono\n",
        "def calcular_etti(bono, etti):\n",
        "    n = [i for i, e in enumerate(bono) if e != 0][-1]\n",
        "    ultimo_flujo = bono[n]\n",
        "    precio = -bono[0]\n",
        "    fcid = 0\n",
        "    for i in range(1,n):\n",
        "        fcid += bono[i] / (1+etti[i-1])**i\n",
        "    return (ultimo_flujo / (precio - fcid))**(1/n)-1\n",
        "\n",
        "#habiendo definido la función, calculamos los valores de ETTI desde i = 2 hasta 5\n",
        "#recuerda que en Python el primer elemento de un vector es 0\n",
        "#así que etti[1] es la ETTI para el 2º año\n",
        "etti[1] = calcular_etti(bonoB, etti)\n",
        "etti[2] = calcular_etti(bonoC, etti)\n",
        "etti[3] = calcular_etti(bonoD, etti)\n",
        "etti[4] = calcular_etti(bonoE, etti)\n",
        "\n",
        "\n",
        "\n",
        "#creamos una función que calcule el precio de un bono con tipo de interés no constante\n",
        "#recuerda que la \"i\" no representa el tipo de interés, sino la fila del vector, el año del bono\n",
        "def calcular_precio(flujos, interés):\n",
        "    precio = 0\n",
        "    for i in range(1, len(flujos)):\n",
        "        precio += flujos[i] * (1+interés[i-1])**-i\n",
        "    return precio\n",
        "\n",
        "#calculamos precio del bono X\n",
        "precioX = calcular_precio(bonoX, etti)\n",
        "\n",
        "#en el vector que representa los flujos de caja del bono X añadimos el desembolso inicial\n",
        "bonoX[0] = -precioX\n",
        "\n",
        "#calculamos la TIR del bono X\n",
        "tirX = npf.irr(bonoX)\n",
        "\n",
        "\n",
        "\n",
        "\n",
        "\n",
        "\n"
      ]
    }
  ]
}