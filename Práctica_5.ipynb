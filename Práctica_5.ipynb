{
  "nbformat": 4,
  "nbformat_minor": 0,
  "metadata": {
    "colab": {
      "name": "Práctica 5.ipynb",
      "provenance": [],
      "collapsed_sections": []
    },
    "kernelspec": {
      "name": "python3",
      "display_name": "Python 3"
    },
    "language_info": {
      "name": "python"
    }
  },
  "cells": [
    {
      "cell_type": "code",
      "execution_count": 46,
      "metadata": {
        "colab": {
          "base_uri": "https://localhost:8080/"
        },
        "id": "GUbARufFH18H",
        "outputId": "96c6e424-6a44-49e9-edc2-8ca84b4f63c0"
      },
      "outputs": [
        {
          "output_type": "stream",
          "name": "stdout",
          "text": [
            "Precio de la opción call en el mercado 6\n",
            "Precio que la opción call debería tener 5.0\n",
            "Comprar el put y vender el call\n"
          ]
        }
      ],
      "source": [
        "#Práctica 5: paridad put-call\n",
        "\n",
        "import random\n",
        "import math\n",
        "import numpy\n",
        "\n",
        "#establecemos los valores básicos:\n",
        "#S = precio contado, es decir precio actual de una acción\n",
        "#E = precio de ejercicio de la opción (también llamado strike)\n",
        "#t = años hasta el vencimiento de la opción\n",
        "#r = tasa de interés anual\n",
        "#rho = tasa de interés instantánea\n",
        "#P = precio de la opción put en el mercado\n",
        "#C_teórico = precio que la opción call debería tener\n",
        "#C = precio que la opción call tiene en realidad en el mercado\n",
        "\n",
        "S = 100\n",
        "E = 120\n",
        "t = 1\n",
        "r = (E/S)**(1/t)-1\n",
        "rho = numpy.log(1+r)\n",
        "\n",
        "P = 5\n",
        "\n",
        "#el precio de una opción call debe ser:\n",
        "#el contado, más el precio de la opción put, menos el valor actualizado del precio de ejercicio\n",
        "#ese valor actualizado de E se puede expresar de dos formas:\n",
        "#E/(1+r)^n = E*e^(-t*rho)\n",
        "E_actualizado = E*(math.exp(-t*rho))\n",
        "\n",
        "C_teórico = S + P - E_actualizado\n",
        "\n",
        "#comprobamos que existe paridad entre el put real y el call teórico\n",
        "P == C_teórico\n",
        "\n",
        "#en la vida real el precio de una opción puede ser menor o mayor del que \"debería\" tener\n",
        "#esto genera una oportunidad de arbitraje\n",
        "C = random.randint(C_teórico - 1, C_teórico + 1)\n",
        "\n",
        "#determinamos la estrategia a seguir dependiendo del precio que tiene C en el mercado\n",
        "#en comparación con el precio que debería tener\n",
        "print(\"Precio de la opción call en el mercado\", C)\n",
        "print(\"Precio que la opción call debería tener\", C_teórico)\n",
        "\n",
        "if C == C_teórico:\n",
        "  print(\"El arbitraje no es posible\")\n",
        "else:\n",
        "  if C > C_teórico:\n",
        "    print(\"Comprar el put y vender el call\")\n",
        "  else:\n",
        "    print(\"Comprar el call y vender el put\")\n",
        "\n",
        "\n"
      ]
    }
  ]
}